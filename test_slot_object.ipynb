{
 "cells": [
  {
   "cell_type": "code",
   "execution_count": 1,
   "metadata": {},
   "outputs": [],
   "source": [
    "import pandas as pd\n",
    "screen_width, screen_height = 1280, 640\n",
    "df = pd.read_csv('/home/dotronghiep/Documents/JVBCompany/Simple-object-tracking-with-OpenCV/centroid_coordinates/cam1.csv')\n",
    "df = df.drop(columns=[df.columns[0], df.columns[-1]])"
   ]
  },
  {
   "cell_type": "code",
   "execution_count": 2,
   "metadata": {},
   "outputs": [],
   "source": [
    "import slots as sl\n",
    "import numpy as np"
   ]
  },
  {
   "cell_type": "code",
   "execution_count": 3,
   "metadata": {},
   "outputs": [
    {
     "name": "stdout",
     "output_type": "stream",
     "text": [
      "['x_d1' 'y_d1' 'x_d2' 'y_d2' 'x_d3' 'y_d3' 'x_b1' 'y_b1' 'x_b2' 'y_b2'\n",
      " 'x_b3' 'y_b3' 'x_e1' 'y_e1' 'x_e2' 'y_e2' 'x_e3' 'y_e3' 'x_e4' 'y_e4'\n",
      " 'x_e5' 'y_e5' 'x_e6' 'y_e6' 'x_e7' 'y_e7' 'x_e8' 'y_e8' 'x_e9' 'y_e9'\n",
      " 'x_e10' 'y_e10' 'x_g6' 'y_g6' 'x_g5' 'y_g5' 'x_g4' 'y_g4' 'x_g3' 'y_g3'] [0.41641 0.50313 0.62578 0.49688 0.78828 0.48125 0.83125 0.33437 0.88906\n",
      " 0.33906 0.93203 0.34531 0.34531 0.3375  0.46172 0.31562 0.55391 0.31562\n",
      " 0.63594 0.31875 0.71016 0.31094 0.40391 0.21875 0.45859 0.20938 0.51406\n",
      " 0.21094 0.56797 0.21094 0.61641 0.20938 0.08125 0.40313 0.11094 0.34844\n",
      " 0.15625 0.29531 0.18672 0.25781]\n"
     ]
    }
   ],
   "source": [
    "columns = np.array(df.columns)\n",
    "values = df.values.squeeze()\n",
    "print(columns, values)"
   ]
  },
  {
   "cell_type": "code",
   "execution_count": 4,
   "metadata": {},
   "outputs": [],
   "source": [
    "slots = []\n",
    "for column, value in zip(columns, values):\n",
    "    if column[0] == 'x':\n",
    "        x = int(value*screen_width)\n",
    "    else:\n",
    "        y = int(value*screen_height)\n",
    "        name = column[-2:]\n",
    "        slot = sl.Slot(name, x, y)\n",
    "        slots.append(slot)"
   ]
  },
  {
   "cell_type": "code",
   "execution_count": 5,
   "metadata": {},
   "outputs": [
    {
     "name": "stdout",
     "output_type": "stream",
     "text": [
      "d2\n"
     ]
    }
   ],
   "source": [
    "print(slots[1].id)"
   ]
  },
  {
   "cell_type": "code",
   "execution_count": 6,
   "metadata": {},
   "outputs": [
    {
     "name": "stdout",
     "output_type": "stream",
     "text": [
      "CUDA is available\n"
     ]
    }
   ],
   "source": [
    "import torch\n",
    "\n",
    "if torch.cuda.is_available():\n",
    "    print(\"CUDA is available\")\n",
    "else:\n",
    "    print(\"CUDA is not available\")"
   ]
  },
  {
   "cell_type": "code",
   "execution_count": 7,
   "metadata": {},
   "outputs": [],
   "source": [
    "import cv2\n",
    "vs = cv2.VideoCapture('/home/dotronghiep/Documents/Datasets/Car_tracking/JVB/D_4.mp4')\n",
    "while vs.isOpened():\n",
    "    ret, frame = vs.read()\n",
    "    if ret==True:\n",
    "        frame = cv2.resize(frame, (screen_width, screen_height))\n",
    "        for i in slots:\n",
    "            cv2.circle(frame, (i.x, i.y), 4, (255, 0, 0), -1)\n",
    "        cv2.imshow(\"Frame\", frame)   \n",
    "        key = cv2.waitKey(10) & 0xFF\n",
    "        if key == ord('q'):\n",
    "            break    \n",
    "    else:\n",
    "        break\n",
    "vs.release()\n",
    "cv2.destroyAllWindows()"
   ]
  }
 ],
 "metadata": {
  "kernelspec": {
   "display_name": "test_track_12",
   "language": "python",
   "name": "python3"
  },
  "language_info": {
   "codemirror_mode": {
    "name": "ipython",
    "version": 3
   },
   "file_extension": ".py",
   "mimetype": "text/x-python",
   "name": "python",
   "nbconvert_exporter": "python",
   "pygments_lexer": "ipython3",
   "version": "3.12.2"
  }
 },
 "nbformat": 4,
 "nbformat_minor": 2
}
